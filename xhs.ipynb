{
  "nbformat": 4,
  "nbformat_minor": 0,
  "metadata": {
    "colab": {
      "provenance": [],
      "authorship_tag": "ABX9TyMj1oHOsdOHljJMB7Lwkh47",
      "include_colab_link": true
    },
    "kernelspec": {
      "name": "python3",
      "display_name": "Python 3"
    },
    "language_info": {
      "name": "python"
    }
  },
  "cells": [
    {
      "cell_type": "markdown",
      "metadata": {
        "id": "view-in-github",
        "colab_type": "text"
      },
      "source": [
        "<a href=\"https://colab.research.google.com/github/FELSOCornell/xhs/blob/main/xhs.ipynb\" target=\"_parent\"><img src=\"https://colab.research.google.com/assets/colab-badge.svg\" alt=\"Open In Colab\"/></a>"
      ]
    },
    {
      "cell_type": "markdown",
      "source": [
        "# Descriptive Statistics"
      ],
      "metadata": {
        "id": "bd2WZ0Sf5qNR"
      }
    },
    {
      "cell_type": "code",
      "execution_count": null,
      "metadata": {
        "colab": {
          "base_uri": "https://localhost:8080/"
        },
        "id": "boIrjMPJ6fAi",
        "outputId": "c1efa956-5cbc-44ef-f858-8ed818abee8d"
      },
      "outputs": [
        {
          "output_type": "stream",
          "name": "stdout",
          "text": [
            "T Statistics: -1.8973665961010275\n",
            "\t\n",
            "P Value: 0.09434977284243756\n"
          ]
        }
      ],
      "source": [
        "import numpy as np\n",
        "from scipy import stats\n",
        "\n",
        "group1 = np.array([1,2,3,4,5])\n",
        "group2 = np.array([2,4,6,8,10])\n",
        "\n",
        "t_statistic, p_value = stats.ttest_ind(group1, group2)\n",
        "print(\"T Statistics:\", t_statistic)\n",
        "print(\"\\t\")\n",
        "print(\"P Value:\", p_value)"
      ]
    },
    {
      "cell_type": "code",
      "source": [
        "from scipy import stats\n",
        "\n",
        "group1 = np.array([1,2,3,4,5])\n",
        "group2 = np.array([2,4,6,8,10])\n",
        "group3 = np.array([3,6,9,12,15])\n",
        "\n",
        "f_statistic, p_value = stats.f_oneway(group1, group2, group3)\n",
        "print(\"F Statistics:\", f_statistic)\n",
        "print(\"\\t\")\n",
        "print(\"P Value:\", p_value)"
      ],
      "metadata": {
        "colab": {
          "base_uri": "https://localhost:8080/"
        },
        "id": "GSxjSQ4i7i14",
        "outputId": "d5381d7d-7f6b-4611-aeb1-bae53bc43f32"
      },
      "execution_count": null,
      "outputs": [
        {
          "output_type": "stream",
          "name": "stdout",
          "text": [
            "F Statistics: 3.857142857142857\n",
            "\t\n",
            "P Value: 0.05086290933139865\n"
          ]
        }
      ]
    },
    {
      "cell_type": "code",
      "source": [
        "# Import necessary libraries\n",
        "import numpy as np\n",
        "import pandas as pd\n",
        "\n",
        "# Create a DataFrame with sample numerical data for three columns\n",
        "data = pd.DataFrame({\n",
        "    'column_1': [10, 15, 10, 20, 25, 10, 20, 25, 15, 30],\n",
        "    'column_2': [5, 7, 5, 10, 15, 5, 10, 15, 7, 20],\n",
        "    'column_3': [2, 3, 2, 5, 8, 2, 5, 8, 3, 10]\n",
        "})\n",
        "\n",
        "# Calculate mean, median, and mode for each column\n",
        "mean_values = data.mean()\n",
        "median_values = data.median()\n",
        "mode_values = data.mode().iloc[0]  # .iloc[0] to get the first mode value for each column\n",
        "\n",
        "# Print the DataFrame and results\n",
        "print(\"DataFrame:\\n\", data)\n",
        "print(\"\\nMean:\\n\", mean_values)\n",
        "print(\"\\nMedian:\\n\", median_values)\n",
        "print(\"\\nMode:\\n\", mode_values)\n"
      ],
      "metadata": {
        "colab": {
          "base_uri": "https://localhost:8080/"
        },
        "id": "gsj6JKIsmCYO",
        "outputId": "fba834e0-f050-49a4-8ae4-3ccdae1880df"
      },
      "execution_count": null,
      "outputs": [
        {
          "output_type": "stream",
          "name": "stdout",
          "text": [
            "DataFrame:\n",
            "    column_1  column_2  column_3\n",
            "0        10         5         2\n",
            "1        15         7         3\n",
            "2        10         5         2\n",
            "3        20        10         5\n",
            "4        25        15         8\n",
            "5        10         5         2\n",
            "6        20        10         5\n",
            "7        25        15         8\n",
            "8        15         7         3\n",
            "9        30        20        10\n",
            "\n",
            "Mean:\n",
            " column_1    18.0\n",
            "column_2     9.9\n",
            "column_3     4.8\n",
            "dtype: float64\n",
            "\n",
            "Median:\n",
            " column_1    17.5\n",
            "column_2     8.5\n",
            "column_3     4.0\n",
            "dtype: float64\n",
            "\n",
            "Mode:\n",
            " column_1    10\n",
            "column_2     5\n",
            "column_3     2\n",
            "Name: 0, dtype: int64\n"
          ]
        }
      ]
    },
    {
      "cell_type": "code",
      "source": [
        "import numpy as np\n",
        "import pandas as pd\n",
        "\n",
        "# Create an m * n DataFrame with random integer data\n",
        "m, n = 10, 5  # Example dimensions: 10 rows by 5 columns\n",
        "data = pd.DataFrame(np.random.randint(1, 100, size=(m, n)), columns=[f\"col_{i+1}\" for i in range(n)])\n",
        "\n",
        "# Select specific rows and columns (example: rows 0-4 and columns 'col_1' and 'col_3')\n",
        "selected_data = data.loc[0:4, ['col_1', 'col_3']]\n",
        "\n",
        "# Calculate mean, median, and mode for the selected data\n",
        "selected_mean = selected_data.mean()\n",
        "selected_median = selected_data.median()\n",
        "selected_mode = selected_data.mode().iloc[0]  # .iloc[0] to get the first mode value for each column\n",
        "\n",
        "# Calculate mean, median, and mode for the entire DataFrame\n",
        "overall_mean = data.mean()\n",
        "overall_median = data.median()\n",
        "overall_mode = data.mode().iloc[0]  # .iloc[0] to get the first mode value for each column\n",
        "\n",
        "# Print all data, selected data, and statistics\n",
        "print(\"All Data:\\n\", data)\n",
        "print(\"\\nSelected Data:\\n\", selected_data)\n",
        "\n",
        "print(\"\\nOverall Statistics:\")\n",
        "print(\"Mean:\\n\", overall_mean)\n",
        "print(\"Median:\\n\", overall_median)\n",
        "print(\"Mode:\\n\", overall_mode)\n",
        "\n",
        "print(\"\\nSelected Data Statistics:\")\n",
        "print(\"Mean:\\n\", selected_mean)\n",
        "print(\"Median:\\n\", selected_median)\n",
        "print(\"Mode:\\n\", selected_mode)\n",
        "\n"
      ],
      "metadata": {
        "colab": {
          "base_uri": "https://localhost:8080/"
        },
        "id": "6IWztZvQ7_ek",
        "outputId": "a6e5f512-1e9e-4dc6-cc4c-d90dffcd6b81"
      },
      "execution_count": null,
      "outputs": [
        {
          "output_type": "stream",
          "name": "stdout",
          "text": [
            "All Data:\n",
            "    col_1  col_2  col_3  col_4  col_5\n",
            "0     52     30     10     64     60\n",
            "1     84     75     96     80     90\n",
            "2     95     57     99     34     33\n",
            "3     63     99     18     52     10\n",
            "4     87     90     48      9     47\n",
            "5     72     37     80     72     30\n",
            "6     64     61     66     74     20\n",
            "7     92     36     22     72     40\n",
            "8     46     40     27     35      3\n",
            "9     19     98     17     23     11\n",
            "\n",
            "Selected Data:\n",
            "    col_1  col_3\n",
            "0     52     10\n",
            "1     84     96\n",
            "2     95     99\n",
            "3     63     18\n",
            "4     87     48\n",
            "\n",
            "Overall Statistics:\n",
            "Mean:\n",
            " col_1    67.4\n",
            "col_2    62.3\n",
            "col_3    48.3\n",
            "col_4    51.5\n",
            "col_5    34.4\n",
            "dtype: float64\n",
            "Median:\n",
            " col_1    68.0\n",
            "col_2    59.0\n",
            "col_3    37.5\n",
            "col_4    58.0\n",
            "col_5    31.5\n",
            "dtype: float64\n",
            "Mode:\n",
            " col_1    19.0\n",
            "col_2    30.0\n",
            "col_3    10.0\n",
            "col_4    72.0\n",
            "col_5     3.0\n",
            "Name: 0, dtype: float64\n",
            "\n",
            "Selected Data Statistics:\n",
            "Mean:\n",
            " col_1    76.2\n",
            "col_3    54.2\n",
            "dtype: float64\n",
            "Median:\n",
            " col_1    84.0\n",
            "col_3    48.0\n",
            "dtype: float64\n",
            "Mode:\n",
            " col_1    52\n",
            "col_3    10\n",
            "Name: 0, dtype: int64\n"
          ]
        }
      ]
    },
    {
      "cell_type": "markdown",
      "source": [
        "# Correlation Analysis"
      ],
      "metadata": {
        "id": "STUjbGLD57Uq"
      }
    },
    {
      "cell_type": "code",
      "source": [
        "import numpy as np\n",
        "from scipy.stats import pearsonr\n",
        "\n",
        "# Define two sample arrays\n",
        "x = np.array([1, 2, 3, 4, 5])\n",
        "y = np.array([2, 4, 6, 8, 12])\n",
        "\n",
        "# Calculate Pearson correlation coefficient and p-value for the defined arrays\n",
        "correlation_coefficient, p_value = pearsonr(x, y)\n",
        "print(\"Correlation Coefficient (x, y):\", correlation_coefficient)\n",
        "print(\"P-value (x, y):\", p_value)\n",
        "\n",
        "# Conclusion based on the defined arrays\n",
        "if p_value < 0.05:\n",
        "    print(\"Conclusion: There is a significant linear relationship between x and y, and the correlation coefficient indicates a strong positive correlation.\")\n",
        "else:\n",
        "    print(\"Conclusion: There is no significant linear relationship between x and y (p-value > 0.05).\")\n",
        "\n",
        "# Generate two random arrays of length 5 (or any desired length)\n",
        "random_array_1 = np.random.rand(5)\n",
        "random_array_2 = np.random.rand(5)\n",
        "\n",
        "# Calculate Pearson correlation coefficient and p-value for the random arrays\n",
        "random_correlation_coefficient, random_p_value = pearsonr(random_array_1, random_array_2)\n",
        "print(\"\\nRandom Array 1:\", random_array_1)\n",
        "print(\"Random Array 2:\", random_array_2)\n",
        "print(\"Correlation Coefficient (Random Arrays):\", random_correlation_coefficient)\n",
        "print(\"P-value (Random Arrays):\", random_p_value)\n",
        "\n",
        "# Conclusion based on the random arrays\n",
        "if random_p_value < 0.05:\n",
        "    print(\"Conclusion: There is a significant linear relationship between the random arrays, indicating some level of correlation.\")\n",
        "else:\n",
        "    print(\"Conclusion: There is no significant linear relationship between the random arrays (p-value > 0.05).\")\n"
      ],
      "metadata": {
        "colab": {
          "base_uri": "https://localhost:8080/"
        },
        "id": "_hm9tEfq82js",
        "outputId": "11b7c4d3-90d7-47a2-9e3f-5411c71aa1bc"
      },
      "execution_count": null,
      "outputs": [
        {
          "output_type": "stream",
          "name": "stdout",
          "text": [
            "Correlation Coefficient (x, y): 0.9863939238321437\n",
            "P-value (x, y): 0.0019012746601963693\n",
            "Conclusion: There is a significant linear relationship between x and y, and the correlation coefficient indicates a strong positive correlation.\n",
            "\n",
            "Random Array 1: [0.78052918 0.11827443 0.63992102 0.14335329 0.94466892]\n",
            "Random Array 2: [0.52184832 0.41466194 0.26455561 0.77423369 0.45615033]\n",
            "Correlation Coefficient (Random Arrays): -0.3910414723313843\n",
            "P-value (Random Arrays): 0.5151077703290735\n",
            "Conclusion: There is no significant linear relationship between the random arrays (p-value > 0.05).\n"
          ]
        }
      ]
    },
    {
      "cell_type": "markdown",
      "source": [
        "# Linear Analysis"
      ],
      "metadata": {
        "id": "glwhPMzj6JBR"
      }
    },
    {
      "cell_type": "code",
      "source": [
        "import numpy as np\n",
        "from sklearn.linear_model import LinearRegression\n",
        "\n",
        "x = np.array([1,2,3,4,5]).reshape(-1, 1)\n",
        "y = np.array([2,4,6,8,10])\n",
        "\n",
        "regression = LinearRegression()\n",
        "\n",
        "regression.fit(x, y)\n",
        "\n",
        "intercept = regression.intercept_\n",
        "slope = regression.coef_[0]\n",
        "\n",
        "print(\"Intercept:\", intercept)\n",
        "print(\"\\t\")\n",
        "print(\"Slope:\", slope)"
      ],
      "metadata": {
        "colab": {
          "base_uri": "https://localhost:8080/"
        },
        "id": "L_yj__159Tui",
        "outputId": "aa0f0169-edf1-41d8-8eb2-c3dde08d07ce"
      },
      "execution_count": null,
      "outputs": [
        {
          "output_type": "stream",
          "name": "stdout",
          "text": [
            "Intercept: 0.0\n",
            "\t\n",
            "Slope: 2.0\n"
          ]
        }
      ]
    },
    {
      "cell_type": "markdown",
      "source": [
        "# PCA"
      ],
      "metadata": {
        "id": "evlbrqwf6UCC"
      }
    },
    {
      "cell_type": "code",
      "source": [
        "import numpy as np\n",
        "from sklearn.decomposition import PCA\n",
        "\n",
        "data = np.array([[1,2,3], [4,5,6], [7,8,9]])\n",
        "\n",
        "pca = PCA(n_components=2)\n",
        "reduced_data = pca.fit_transform(data)\n",
        "\n",
        "print(\"Reduced Data:\")\n",
        "print(reduced_data)"
      ],
      "metadata": {
        "colab": {
          "base_uri": "https://localhost:8080/"
        },
        "id": "47WbOiLH9tqw",
        "outputId": "6154ec08-f8c4-4d5a-b982-258fb639e0c2"
      },
      "execution_count": null,
      "outputs": [
        {
          "output_type": "stream",
          "name": "stdout",
          "text": [
            "Reduced Data:\n",
            "[[-5.19615242e+00 -2.56395025e-16]\n",
            " [ 0.00000000e+00 -0.00000000e+00]\n",
            " [ 5.19615242e+00 -2.56395025e-16]]\n"
          ]
        }
      ]
    },
    {
      "cell_type": "markdown",
      "source": [
        "# K Means"
      ],
      "metadata": {
        "id": "tfEcWpQa6c9Q"
      }
    },
    {
      "cell_type": "code",
      "source": [
        "from sklearn.cluster import KMeans\n",
        "\n",
        "x = np.array([[1,2], [1,4], [1,0], [10,2], [10,4], [10,0]])\n",
        "\n",
        "kmeans = KMeans(n_clusters=2, random_state=0)\n",
        "\n",
        "kmeans.fit(x)\n",
        "\n",
        "labels = kmeans.predict(x)\n",
        "\n",
        "print(\"Cluster Labels:\", labels)"
      ],
      "metadata": {
        "colab": {
          "base_uri": "https://localhost:8080/"
        },
        "id": "VvlaHrp--b7l",
        "outputId": "b3ece212-6593-4be5-e89b-53b1615f461f"
      },
      "execution_count": null,
      "outputs": [
        {
          "output_type": "stream",
          "name": "stdout",
          "text": [
            "Cluster Labels: [1 1 1 0 0 0]\n"
          ]
        }
      ]
    },
    {
      "cell_type": "markdown",
      "source": [
        "# Decision Tree"
      ],
      "metadata": {
        "id": "_HKCiA6S6ndY"
      }
    },
    {
      "cell_type": "code",
      "source": [
        "from sklearn.tree import DecisionTreeClassifier\n",
        "\n",
        "x = np.array([[0,0], [1,1], [2,2], [3,3]])\n",
        "y = np.array([0,1,1,0])\n",
        "\n",
        "clf = DecisionTreeClassifier()\n",
        "clf.fit(x, y)\n",
        "\n",
        "prediction = clf.predict([[1,1], [0,0]])\n",
        "\n",
        "print(\"Prediction:\", prediction)"
      ],
      "metadata": {
        "colab": {
          "base_uri": "https://localhost:8080/"
        },
        "id": "d9e1RzFI-y2E",
        "outputId": "721e89e1-4b8b-419b-cf3c-15e203aa5788"
      },
      "execution_count": null,
      "outputs": [
        {
          "output_type": "stream",
          "name": "stdout",
          "text": [
            "Prediction: [1 0]\n"
          ]
        }
      ]
    },
    {
      "cell_type": "markdown",
      "source": [
        "# Time Series Analysis"
      ],
      "metadata": {
        "id": "IzkGRdRu6seM"
      }
    },
    {
      "cell_type": "code",
      "source": [
        "import pandas as pd\n",
        "import numpy as np\n",
        "from statsmodels.tsa.ar_model import AutoReg\n",
        "\n",
        "# Create some example data\n",
        "np.random.seed(0)\n",
        "data = np.random.randn(100)  # 100 random numbers to simulate a time series\n",
        "df = pd.DataFrame(data, columns=['time_series_column'])\n",
        "\n",
        "# Compute rolling mean\n",
        "rolling_mean = df['time_series_column'].rolling(window=5).mean()\n",
        "print(rolling_mean.head(10))  # Print first 10 rolling mean values\n",
        "\n",
        "# Fit AutoReg model with lags=1\n",
        "model = AutoReg(df['time_series_column'], lags=1)\n",
        "model_fit = model.fit()\n",
        "\n",
        "# Print model summary\n",
        "print(model_fit.summary())\n",
        "\n",
        "# Make a prediction (forecasting the next 5 values based on the model)\n",
        "prediction = model_fit.predict(start=len(df), end=len(df) + 4, dynamic=False)\n",
        "print(\"\\nPredicted next 5 values:\", prediction)\n"
      ],
      "metadata": {
        "colab": {
          "base_uri": "https://localhost:8080/"
        },
        "id": "9jhxLfL__YcK",
        "outputId": "a890d870-6594-4f07-cb11-16e186bd43c6"
      },
      "execution_count": null,
      "outputs": [
        {
          "output_type": "stream",
          "name": "stdout",
          "text": [
            "0         NaN\n",
            "1         NaN\n",
            "2         NaN\n",
            "3         NaN\n",
            "4    1.450280\n",
            "5    0.902014\n",
            "6    1.012000\n",
            "7    0.785981\n",
            "8    0.317158\n",
            "9    0.025767\n",
            "Name: time_series_column, dtype: float64\n",
            "                            AutoReg Model Results                             \n",
            "==============================================================================\n",
            "Dep. Variable:     time_series_column   No. Observations:                  100\n",
            "Model:                     AutoReg(1)   Log Likelihood                -140.038\n",
            "Method:               Conditional MLE   S.D. of innovations              0.996\n",
            "Date:                Sun, 10 Nov 2024   AIC                            286.076\n",
            "Time:                        20:14:41   BIC                            293.861\n",
            "Sample:                             1   HQIC                           289.226\n",
            "                                  100                                         \n",
            "=========================================================================================\n",
            "                            coef    std err          z      P>|z|      [0.025      0.975]\n",
            "-----------------------------------------------------------------------------------------\n",
            "const                     0.0386      0.100      0.385      0.700      -0.158       0.235\n",
            "time_series_column.L1     0.0715      0.099      0.724      0.469      -0.122       0.265\n",
            "                                    Roots                                    \n",
            "=============================================================================\n",
            "                  Real          Imaginary           Modulus         Frequency\n",
            "-----------------------------------------------------------------------------\n",
            "AR.1           13.9829           +0.0000j           13.9829            0.0000\n",
            "-----------------------------------------------------------------------------\n",
            "\n",
            "Predicted next 5 values: 100    0.067312\n",
            "101    0.043377\n",
            "102    0.041666\n",
            "103    0.041543\n",
            "104    0.041534\n",
            "dtype: float64\n"
          ]
        }
      ]
    },
    {
      "cell_type": "markdown",
      "source": [
        "# Survivability Analysis"
      ],
      "metadata": {
        "id": "s54mA6T96xZD"
      }
    },
    {
      "cell_type": "code",
      "source": [
        "# Import necessary libraries\n",
        "import pandas as pd\n",
        "from lifelines import KaplanMeierFitter\n",
        "import matplotlib.pyplot as plt\n",
        "\n",
        "# Example dataframe (replace this with your actual data)\n",
        "# Assuming df has columns 'time' (duration) and 'event' (0=censored, 1=event occurred)\n",
        "df = pd.DataFrame({\n",
        "    'time': [5, 6, 7, 8, 10, 11, 12, 13, 14, 15],  # Time until the event or censoring\n",
        "    'event': [1, 0, 1, 1, 0, 1, 1, 0, 1, 1]  # 1 = event occurred, 0 = censored\n",
        "})\n",
        "\n",
        "# Initialize KaplanMeierFitter\n",
        "kmf = KaplanMeierFitter()\n",
        "\n",
        "# Fit the model to the data (time and event columns)\n",
        "kmf.fit(df['time'], event_observed=df['event'])\n",
        "\n",
        "# Plot the Kaplan-Meier curve\n",
        "kmf.plot()\n",
        "\n",
        "# Show the plot\n",
        "plt.title(\"Kaplan-Meier Survival Curve\")\n",
        "plt.xlabel(\"Time\")\n",
        "plt.ylabel(\"Survival Probability\")\n",
        "plt.show()\n"
      ],
      "metadata": {
        "colab": {
          "base_uri": "https://localhost:8080/",
          "height": 472
        },
        "id": "X_XLxHKH_2kt",
        "outputId": "d004bcc2-490f-4c57-c810-b3072a4bbb91"
      },
      "execution_count": null,
      "outputs": [
        {
          "output_type": "display_data",
          "data": {
            "text/plain": [
              "<Figure size 640x480 with 1 Axes>"
            ],
            "image/png": "[encoded data removed]"
          },
          "metadata": {}
        }
      ]
    },
    {
      "cell_type": "code",
      "source": [
        "import numpy as np\n",
        "import pandas as pd\n",
        "import statsmodels.api as sm\n",
        "import matplotlib.pyplot as plt\n",
        "\n",
        "# Generate synthetic dataset\n",
        "np.random.seed(42)\n",
        "X = np.random.rand(100)\n",
        "y = 2 * X + np.random.normal(0, 0.2, 100)\n",
        "\n",
        "# Create DataFrame\n",
        "data = pd.DataFrame({'X': X, 'y': y})\n",
        "\n",
        "# Add a constant for intercept\n",
        "X_with_const = sm.add_constant(data['X'])\n",
        "\n",
        "# Define quantiles\n",
        "quantiles = [0.25, 0.5, 0.75]\n",
        "predictions = {}\n",
        "\n",
        "# Fit models for each quantile\n",
        "for q in quantiles:\n",
        "    model = sm.QuantReg(data['y'], X_with_const).fit(q=q)\n",
        "    predictions[q] = model.predict(X_with_const)\n",
        "    print(f\"Quantile: {q}\")\n",
        "    print(model.summary())  # Summary for each quantile regression\n",
        "\n",
        "# Plot the results\n",
        "plt.scatter(data['X'], data['y'], label='Data', alpha=0.5)\n",
        "for q in quantiles:\n",
        "    plt.plot(data['X'], predictions[q], label=f'Quantile {q}', lw=2)\n",
        "plt.xlabel('X')\n",
        "plt.ylabel('y')\n",
        "plt.legend()\n",
        "plt.title('Quantile Regression (0.25, 0.5, 0.75)')\n",
        "plt.show()\n"
      ],
      "metadata": {
        "colab": {
          "base_uri": "https://localhost:8080/",
          "height": 1000
        },
        "id": "5G1E1r_JFWwk",
        "outputId": "3c2af684-2c86-4e56-8106-9d5e38263c0f"
      },
      "execution_count": null,
      "outputs": [
        {
          "output_type": "stream",
          "name": "stdout",
          "text": [
            "Quantile: 0.25\n",
            "                         QuantReg Regression Results                          \n",
            "==============================================================================\n",
            "Dep. Variable:                      y   Pseudo R-squared:               0.6795\n",
            "Model:                       QuantReg   Bandwidth:                      0.1728\n",
            "Method:                 Least Squares   Sparsity:                       0.6902\n",
            "Date:                Mon, 09 Dec 2024   No. Observations:                  100\n",
            "Time:                        01:55:42   Df Residuals:                       98\n",
            "                                        Df Model:                            1\n",
            "==============================================================================\n",
            "                 coef    std err          t      P>|t|      [0.025      0.975]\n",
            "------------------------------------------------------------------------------\n",
            "const         -0.1282      0.052     -2.444      0.016      -0.232      -0.024\n",
            "X              1.9598      0.091     21.576      0.000       1.780       2.140\n",
            "==============================================================================\n",
            "Quantile: 0.5\n",
            "                         QuantReg Regression Results                          \n",
            "==============================================================================\n",
            "Dep. Variable:                      y   Pseudo R-squared:               0.7255\n",
            "Model:                       QuantReg   Bandwidth:                      0.1963\n",
            "Method:                 Least Squares   Sparsity:                       0.4749\n",
            "Date:                Mon, 09 Dec 2024   No. Observations:                  100\n",
            "Time:                        01:55:42   Df Residuals:                       98\n",
            "                                        Df Model:                            1\n",
            "==============================================================================\n",
            "                 coef    std err          t      P>|t|      [0.025      0.975]\n",
            "------------------------------------------------------------------------------\n",
            "const          0.0585      0.045      1.313      0.192      -0.030       0.147\n",
            "X              1.8755      0.080     23.381      0.000       1.716       2.035\n",
            "==============================================================================\n",
            "Quantile: 0.75\n",
            "                         QuantReg Regression Results                          \n",
            "==============================================================================\n",
            "Dep. Variable:                      y   Pseudo R-squared:               0.7157\n",
            "Model:                       QuantReg   Bandwidth:                      0.1747\n",
            "Method:                 Least Squares   Sparsity:                       0.5295\n",
            "Date:                Mon, 09 Dec 2024   No. Observations:                  100\n",
            "Time:                        01:55:43   Df Residuals:                       98\n",
            "                                        Df Model:                            1\n",
            "==============================================================================\n",
            "                 coef    std err          t      P>|t|      [0.025      0.975]\n",
            "------------------------------------------------------------------------------\n",
            "const          0.1372      0.046      2.963      0.004       0.045       0.229\n",
            "X              1.9068      0.084     22.584      0.000       1.739       2.074\n",
            "==============================================================================\n"
          ]
        },
        {
          "output_type": "display_data",
          "data": {
            "text/plain": [
              "<Figure size 640x480 with 1 Axes>"
            ],
            "image/png": "[encoded data removed]"
          },
          "metadata": {}
        }
      ]
    }
  ]
}